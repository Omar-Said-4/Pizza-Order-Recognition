{
 "cells": [
  {
   "cell_type": "code",
   "execution_count": 90,
   "metadata": {},
   "outputs": [
    {
     "name": "stderr",
     "output_type": "stream",
     "text": [
      "[nltk_data] Downloading package stopwords to\n",
      "[nltk_data]     C:\\Users\\omara\\AppData\\Roaming\\nltk_data...\n",
      "[nltk_data]   Package stopwords is already up-to-date!\n",
      "[nltk_data] Downloading package punkt to\n",
      "[nltk_data]     C:\\Users\\omara\\AppData\\Roaming\\nltk_data...\n",
      "[nltk_data]   Package punkt is already up-to-date!\n",
      "[nltk_data] Downloading package wordnet to\n",
      "[nltk_data]     C:\\Users\\omara\\AppData\\Roaming\\nltk_data...\n",
      "[nltk_data]   Package wordnet is already up-to-date!\n"
     ]
    },
    {
     "data": {
      "text/plain": [
       "True"
      ]
     },
     "execution_count": 90,
     "metadata": {},
     "output_type": "execute_result"
    }
   ],
   "source": [
    "import numpy as np\n",
    "import random\n",
    "import pandas as pd\n",
    "import string\n",
    "import nltk\n",
    "from nltk.corpus import stopwords\n",
    "from nltk.corpus import wordnet\n",
    "from nltk.tokenize import word_tokenize\n",
    "from nltk.stem import WordNetLemmatizer\n",
    "import random\n",
    "from cleantext import clean\n",
    "nltk.download('stopwords')\n",
    "nltk.download('punkt')\n",
    "nltk.download('wordnet')\n"
   ]
  },
  {
   "cell_type": "code",
   "execution_count": 91,
   "metadata": {},
   "outputs": [],
   "source": [
    "def load_data(filename):\n",
    "    with open(filename, 'r', encoding='utf-8') as f:\n",
    "        data = f.readlines()\n",
    "    return data"
   ]
  },
  {
   "cell_type": "code",
   "execution_count": 92,
   "metadata": {},
   "outputs": [],
   "source": [
    "order_starts = load_data('order_starts.txt')\n",
    "order_closure = load_data('order_closure.txt')\n",
    "order= load_data('order.txt')"
   ]
  },
  {
   "cell_type": "code",
   "execution_count": 93,
   "metadata": {},
   "outputs": [],
   "source": [
    "order_starts = [item.strip() for item in order_starts]\n",
    "order_closure = [item.strip() for item in order_closure]\n",
    "order = [item.strip() for item in order]"
   ]
  },
  {
   "cell_type": "code",
   "execution_count": 94,
   "metadata": {},
   "outputs": [],
   "source": [
    "def remove_punctuation(lst):\n",
    "    return [''.join(char for char in item if char not in string.punctuation) for item in lst]\n",
    "order_starts = remove_punctuation(order_starts)\n",
    "order_closure = remove_punctuation(order_closure)\n",
    "order = remove_punctuation(order)"
   ]
  },
  {
   "cell_type": "code",
   "execution_count": 95,
   "metadata": {},
   "outputs": [
    {
     "name": "stdout",
     "output_type": "stream",
     "text": [
      "[['give', 'me', 'chickpeas', 'spinach', 'and', 'onions', 'can', 't', 'wait'], ['can', 'you', 'make', 'a', 'pizza', 'with', 'cheese', 'anchovies', 'and', 'bacon', 'that', 'works', 'for', 'me'], ['let', 's', 'go', 'for', 'bbq', 'chicken', 'mozzarella', 'and', 'red', 'onions', 'perfect', 'i', 'll', 'wait'], ['id', 'like', 'onions', 'garlic', 'and', 'peppers', 'i', 'll', 'wait', 'for', 'it'], ['let', 's', 'get', 'one', 'with', 'mozzarella', 'tomato', 'and', 'basil', 'sounds', 'good']]\n",
      "[[2, 2, 0, 0, 0, 0, 2, 2], [2, 2, 2, 2, 2, 2, 0, 0, 0, 0, 2, 2, 2, 2], [2, 2, 2, 0, 0, 0, 0, 0, 0, 2, 2, 2], [2, 2, 0, 0, 0, 0, 2, 2, 2, 2], [2, 2, 2, 2, 0, 0, 0, 0, 2, 2]]\n"
     ]
    }
   ],
   "source": [
    "random_orders = []\n",
    "labels = []\n",
    "for _ in range(10000):\n",
    "    start = random.choice(order_starts)\n",
    "    closure = random.choice(order_closure)\n",
    "    middle = random.choice(order)\n",
    "    \n",
    "    start_words = start.split()\n",
    "    closure_words = closure.split()\n",
    "    middle_words = middle.split()\n",
    "    \n",
    "    order_string = f\"{start} {middle} {closure}\"\n",
    "    order_string = word_tokenize(order_string)\n",
    "    order_string=clean(order_string, no_line_breaks=True, no_punct=True, no_currency_symbols=True) \n",
    "    order_string = word_tokenize(order_string)\n",
    "    random_orders.append(order_string)\n",
    "    labels_for_order = [2] * len(start_words) + [0] * len(middle_words) + [2] * len(closure_words)\n",
    "    labels.append(labels_for_order)\n",
    "\n",
    "# Output (you can save it to a file or use it directly)\n",
    "print(random_orders[:5])  # Show first 5 orders as an example\n",
    "print(labels[:5])  # Show labels for the first 5 orders\n"
   ]
  },
  {
   "cell_type": "code",
   "execution_count": 96,
   "metadata": {},
   "outputs": [],
   "source": [
    "for order in random_orders:\n",
    "    with open('synthetic_orders.txt', 'a') as f: # dev\n",
    "        f.write(\"%s\\n\" % order)\n",
    "\n",
    "for labels in labels:\n",
    "    with open('synthetic_labels.txt', 'a') as f: # dev\n",
    "        f.write(\"%s\\n\" % labels)"
   ]
  }
 ],
 "metadata": {
  "kernelspec": {
   "display_name": "Python 3",
   "language": "python",
   "name": "python3"
  },
  "language_info": {
   "codemirror_mode": {
    "name": "ipython",
    "version": 3
   },
   "file_extension": ".py",
   "mimetype": "text/x-python",
   "name": "python",
   "nbconvert_exporter": "python",
   "pygments_lexer": "ipython3",
   "version": "3.11.4"
  }
 },
 "nbformat": 4,
 "nbformat_minor": 2
}
