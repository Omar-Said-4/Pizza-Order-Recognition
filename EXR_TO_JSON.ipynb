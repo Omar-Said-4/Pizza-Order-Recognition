{
 "cells": [
  {
   "cell_type": "code",
   "execution_count": 95,
   "metadata": {},
   "outputs": [],
   "source": [
    "import json\n",
    "import re"
   ]
  },
  {
   "cell_type": "code",
   "execution_count": 96,
   "metadata": {},
   "outputs": [],
   "source": [
    "test_string='(ORDER (PIZZAORDER (NOT (TOPPING MUSHROOMS ) ) (NUMBER 1 ) (SIZE MEDIUM ) (TOPPING OLIVES ) (TOPPING ONIONS ) ) )'"
   ]
  },
  {
   "cell_type": "code",
   "execution_count": 97,
   "metadata": {},
   "outputs": [],
   "source": [
    "def parse_to_dict(s):\n",
    "    def parse(tokens):\n",
    "        token = tokens.pop(0)\n",
    "        if token == '(':\n",
    "            key = tokens.pop(0)\n",
    "            nested = {}\n",
    "            while len(tokens) > 0 and tokens[0] != ')':\n",
    "                if tokens[0] == '(':\n",
    "                    temp_dict=parse(tokens)\n",
    "                    for k,v in temp_dict.items():\n",
    "                        if k in nested:\n",
    "                            nested[k].append(v)\n",
    "                        elif k == 'DRINKORDER' or k == 'PIZZAORDER' or k =='TOPPING':\n",
    "                            nested[k]=[v]\n",
    "                        else:\n",
    "                            nested[k] = v\n",
    "                else:\n",
    "                    sub_key = tokens.pop(0)\n",
    "                    if tokens[0] == ')':\n",
    "                        tokens.pop(0)\n",
    "                        return {key: sub_key}\n",
    "            if len(tokens) > 0:\n",
    "                tokens.pop(0)  \n",
    "            return {key: nested}\n",
    "        elif token == ')':\n",
    "            return {}\n",
    "\n",
    "    # Tokenize the string\n",
    "    tokens = re.findall(r'\\(|\\)|\\w+', s)\n",
    "    return parse(tokens)"
   ]
  },
  {
   "cell_type": "code",
   "execution_count": 98,
   "metadata": {},
   "outputs": [
    {
     "name": "stdout",
     "output_type": "stream",
     "text": [
      "{'ORDER': {'PIZZAORDER': [{'NOT': {'TOPPING': ['MUSHROOMS']}, 'NUMBER': '1', 'SIZE': 'MEDIUM', 'TOPPING': ['OLIVES', 'ONIONS']}]}}\n"
     ]
    }
   ],
   "source": [
    "result = parse_to_dict(test_string)\n",
    "print(result)"
   ]
  },
  {
   "cell_type": "code",
   "execution_count": 99,
   "metadata": {},
   "outputs": [],
   "source": [
    "def normalize_dict_values(data):\n",
    "    def normalize(data):\n",
    "        if isinstance(data, dict):\n",
    "            normalized_data = {}\n",
    "            for key, value in data.items():\n",
    "                if key in ['TOPPING', 'PIZZAORDER', 'DRINKORDER']:\n",
    "                    normalized_data[key] = normalize(value)  # Keep these as lists\n",
    "                elif isinstance(value, list) and len(value) == 1:\n",
    "                    normalized_data[key] = normalize(value[0])  # Flatten single-item lists\n",
    "                else:\n",
    "                    normalized_data[key] = normalize(value)\n",
    "            return normalized_data\n",
    "        else:\n",
    "            return data\n",
    "\n",
    "    return normalize(data)"
   ]
  },
  {
   "cell_type": "code",
   "execution_count": 100,
   "metadata": {},
   "outputs": [
    {
     "name": "stdout",
     "output_type": "stream",
     "text": [
      "{'ORDER': {'PIZZAORDER': [{'NOT': {'TOPPING': ['MUSHROOMS']}, 'NUMBER': '1', 'SIZE': 'MEDIUM', 'TOPPING': ['OLIVES', 'ONIONS']}]}}\n"
     ]
    }
   ],
   "source": [
    "normalized_data = normalize_dict_values(result)\n",
    "print(normalized_data)"
   ]
  },
  {
   "cell_type": "code",
   "execution_count": 101,
   "metadata": {},
   "outputs": [],
   "source": [
    "def normalize_dict_values(data):\n",
    "    def normalize(data):\n",
    "        if isinstance(data, dict):\n",
    "            normalized_data = {}\n",
    "            for key, value in data.items():\n",
    "                if isinstance(value, list) and len(value) == 1 and key not in ['TOPPING', 'PIZZAORDER', 'DRINKORDER']:\n",
    "                    # Convert single-item lists to direct values\n",
    "                    normalized_data[key] = normalize(value[0])\n",
    "                else:\n",
    "                    normalized_data[key] = normalize(value)\n",
    "            return normalized_data\n",
    "        else:\n",
    "            return data\n",
    "\n",
    "    return normalize(data)"
   ]
  },
  {
   "cell_type": "code",
   "execution_count": 102,
   "metadata": {},
   "outputs": [
    {
     "name": "stdout",
     "output_type": "stream",
     "text": [
      "{\"ORDER\": {\"PIZZAORDER\": [{\"NOT\": {\"TOPPING\": [\"MUSHROOMS\"]}, \"NUMBER\": \"1\", \"SIZE\": \"MEDIUM\", \"TOPPING\": [\"OLIVES\", \"ONIONS\"]}]}}\n"
     ]
    }
   ],
   "source": [
    "json_string = json.dumps(result)\n",
    "print(json_string)"
   ]
  }
 ],
 "metadata": {
  "kernelspec": {
   "display_name": "Python 3",
   "language": "python",
   "name": "python3"
  },
  "language_info": {
   "codemirror_mode": {
    "name": "ipython",
    "version": 3
   },
   "file_extension": ".py",
   "mimetype": "text/x-python",
   "name": "python",
   "nbconvert_exporter": "python",
   "pygments_lexer": "ipython3",
   "version": "3.11.4"
  }
 },
 "nbformat": 4,
 "nbformat_minor": 2
}
