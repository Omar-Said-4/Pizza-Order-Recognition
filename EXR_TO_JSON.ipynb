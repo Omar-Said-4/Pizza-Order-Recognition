{
 "cells": [
  {
   "cell_type": "code",
   "execution_count": 239,
   "metadata": {},
   "outputs": [],
   "source": [
    "import json\n",
    "import re"
   ]
  },
  {
   "cell_type": "code",
   "execution_count": 240,
   "metadata": {},
   "outputs": [],
   "source": [
    "test_string='(ORDER (PIZZAORDER (NOT (TOPPING MUSHROOMS ) ) (NOT (TOPPING LIGHT ) )(COMPLEX_TOPPING (QUANTITY extra ) (TOPPING cheese ) )  (NUMBER 1 ) (TOPPING DARK ) (SIZE MEDIUM ) (TOPPING OLIVES ) (TOPPING ONIONS ) ) (DRINKORDER (DRINKTYPE CHERRY_COKE ) (NUMBER 4 ) (SIZE LARGE ) ) )'"
   ]
  },
  {
   "cell_type": "code",
   "execution_count": 241,
   "metadata": {},
   "outputs": [],
   "source": [
    "def parse_to_dict(s):\n",
    "    def parse(tokens):\n",
    "        token = tokens.pop(0)\n",
    "        if token == '(':\n",
    "            key = tokens.pop(0)\n",
    "            nested = {}\n",
    "            while len(tokens) > 0 and tokens[0] != ')':\n",
    "                if tokens[0] == '(':\n",
    "                    temp_dict=parse(tokens)\n",
    "                    for k,v in temp_dict.items():\n",
    "                        if k in nested:\n",
    "                            nested[k].append(v)\n",
    "                        elif k == 'DRINKORDER' or k == 'PIZZAORDER' or k =='TOPPING' or k =='NOT':\n",
    "                            nested[k]=[v]\n",
    "                        else:\n",
    "                            nested[k] = v\n",
    "                else:\n",
    "                    sub_key = tokens.pop(0)\n",
    "                    if tokens[0] == ')':\n",
    "                        tokens.pop(0)\n",
    "                        return {key: sub_key}\n",
    "            if len(tokens) > 0:\n",
    "                tokens.pop(0)  \n",
    "            return {key: nested}\n",
    "        elif token == ')':\n",
    "            return {}\n",
    "\n",
    "    # Tokenize the string\n",
    "    tokens = re.findall(r'\\(|\\)|\\w+', s)\n",
    "    return parse(tokens)"
   ]
  },
  {
   "cell_type": "code",
   "execution_count": 242,
   "metadata": {},
   "outputs": [
    {
     "name": "stdout",
     "output_type": "stream",
     "text": [
      "{'ORDER': {'PIZZAORDER': [{'NOT': [{'TOPPING': ['MUSHROOMS']}, {'TOPPING': ['LIGHT']}], 'COMPLEX_TOPPING': {'QUANTITY': 'extra', 'TOPPING': ['cheese']}, 'NUMBER': '1', 'TOPPING': ['DARK', 'OLIVES', 'ONIONS'], 'SIZE': 'MEDIUM'}], 'DRINKORDER': [{'DRINKTYPE': 'CHERRY_COKE', 'NUMBER': '4', 'SIZE': 'LARGE'}]}}\n"
     ]
    }
   ],
   "source": [
    "result = parse_to_dict(test_string)\n",
    "print(result)"
   ]
  },
  {
   "cell_type": "code",
   "execution_count": 243,
   "metadata": {},
   "outputs": [],
   "source": [
    "def normalize_dict_values(data):\n",
    "    def normalize(data):\n",
    "        if isinstance(data, dict):\n",
    "            normalized_data = {}\n",
    "            for key, value in data.items():\n",
    "                if key in ['TOPPING', 'NOT' 'PIZZAORDER', 'DRINKORDER']:\n",
    "                    normalized_data[key] = normalize(value)  # Keep these as lists\n",
    "                elif isinstance(value, list) and len(value) == 1:\n",
    "                    normalized_data[key] = normalize(value[0])  # Flatten single-item lists\n",
    "                else:\n",
    "                    normalized_data[key] = normalize(value)\n",
    "            return normalized_data\n",
    "        else:\n",
    "            return data\n",
    "\n",
    "    return normalize(data)"
   ]
  },
  {
   "cell_type": "code",
   "execution_count": 244,
   "metadata": {},
   "outputs": [
    {
     "name": "stdout",
     "output_type": "stream",
     "text": [
      "{'ORDER': {'PIZZAORDER': {'NOT': [{'TOPPING': ['MUSHROOMS']}, {'TOPPING': ['LIGHT']}], 'COMPLEX_TOPPING': {'QUANTITY': 'extra', 'TOPPING': ['cheese']}, 'NUMBER': '1', 'TOPPING': ['DARK', 'OLIVES', 'ONIONS'], 'SIZE': 'MEDIUM'}, 'DRINKORDER': [{'DRINKTYPE': 'CHERRY_COKE', 'NUMBER': '4', 'SIZE': 'LARGE'}]}}\n"
     ]
    }
   ],
   "source": [
    "normalized_data = normalize_dict_values(result)\n",
    "print(normalized_data)"
   ]
  },
  {
   "cell_type": "code",
   "execution_count": 245,
   "metadata": {},
   "outputs": [],
   "source": [
    "def normalize_dict_values(data):\n",
    "    def normalize(data):\n",
    "        if isinstance(data, dict):\n",
    "            normalized_data = {}\n",
    "            for key, value in data.items():\n",
    "                if isinstance(value, list) and len(value) == 1 and key not in ['TOPPING', 'PIZZAORDER', 'DRINKORDER']:\n",
    "                    # Convert single-item lists to direct values\n",
    "                    normalized_data[key] = normalize(value[0])\n",
    "                else:\n",
    "                    normalized_data[key] = normalize(value)\n",
    "            return normalized_data\n",
    "        else:\n",
    "            return data\n",
    "\n",
    "    return normalize(data)"
   ]
  },
  {
   "cell_type": "code",
   "execution_count": 246,
   "metadata": {},
   "outputs": [
    {
     "name": "stdout",
     "output_type": "stream",
     "text": [
      "{\"ORDER\": {\"PIZZAORDER\": [{\"NOT\": [{\"TOPPING\": [\"MUSHROOMS\"]}, {\"TOPPING\": [\"LIGHT\"]}], \"COMPLEX_TOPPING\": {\"QUANTITY\": \"extra\", \"TOPPING\": [\"cheese\"]}, \"NUMBER\": \"1\", \"TOPPING\": [\"DARK\", \"OLIVES\", \"ONIONS\"], \"SIZE\": \"MEDIUM\"}], \"DRINKORDER\": [{\"DRINKTYPE\": \"CHERRY_COKE\", \"NUMBER\": \"4\", \"SIZE\": \"LARGE\"}]}}\n"
     ]
    }
   ],
   "source": [
    "json_string = json.dumps(result)\n",
    "print(json_string)"
   ]
  },
  {
   "cell_type": "code",
   "execution_count": 247,
   "metadata": {},
   "outputs": [],
   "source": [
    "def process_toppings(order_json):\n",
    "\n",
    "    order = json.loads(order_json)\n",
    "    processed_order = {\"ORDER\": {\"PIZZAORDER\": [], \"DRINKORDER\": []}}\n",
    "    \n",
    "    for pizza in order[\"ORDER\"].get(\"PIZZAORDER\", []):\n",
    "        toppings = pizza.get(\"TOPPING\", [])\n",
    "        excluded = pizza.get(\"NOT\", {})\n",
    "        excluded_toppings =[]\n",
    "        tops=[]\n",
    "        for exc in excluded:\n",
    "            tops.append(exc.get(\"TOPPING\", []))\n",
    "        for top in tops:\n",
    "            for i in range(len(top)):\n",
    "                excluded_toppings.append(top[i])\n",
    "        if \"NOT\" in pizza:\n",
    "            del pizza[\"NOT\"]\n",
    "        if \"TOPPING\" in pizza:\n",
    "            del pizza[\"TOPPING\"]\n",
    "        if \"COMPLEX_TOPPING\" in pizza:\n",
    "            del pizza[\"COMPLEX_TOPPING\"]\n",
    "        complex_topping = pizza.get(\"COMPLEX_TOPPING\", {})\n",
    "        complex_quantity = complex_topping.get(\"QUANTITY\", None)\n",
    "        complex_topping_list = complex_topping.get(\"TOPPING\", [])\n",
    "        all_toppings = []\n",
    "        \n",
    "        for topping in toppings:\n",
    "            all_toppings.append({\n",
    "                \"NOT\": False,\n",
    "                \"Quantity\": None,  \n",
    "                \"Topping\": topping\n",
    "            })\n",
    "        \n",
    "        for topping in excluded_toppings:\n",
    "            all_toppings.append({\n",
    "                \"NOT\": True,\n",
    "                \"Quantity\": None,  \n",
    "                \"Topping\": topping\n",
    "            })\n",
    "        for topping in complex_topping_list:\n",
    "            all_toppings.append({\n",
    "                \"NOT\": False,\n",
    "                \"Quantity\": complex_quantity,\n",
    "                \"Topping\": topping\n",
    "            })\n",
    "        for drink in order[\"ORDER\"].get(\"DRINKORDER\", []):\n",
    "            processed_order[\"ORDER\"][\"DRINKORDER\"].append(drink)\n",
    "        # Add the pizza order with updated AllTopping\n",
    "        new_pizza_order = {**pizza, \"AllTopping\": all_toppings}\n",
    "        processed_order[\"ORDER\"][\"PIZZAORDER\"].append(new_pizza_order)\n",
    "    \n",
    "    return json.dumps(processed_order, indent=4)"
   ]
  },
  {
   "cell_type": "code",
   "execution_count": 248,
   "metadata": {},
   "outputs": [
    {
     "name": "stdout",
     "output_type": "stream",
     "text": [
      "{\n",
      "    \"ORDER\": {\n",
      "        \"PIZZAORDER\": [\n",
      "            {\n",
      "                \"COMPLEX_TOPPING\": {\n",
      "                    \"QUANTITY\": \"extra\",\n",
      "                    \"TOPPING\": [\n",
      "                        \"cheese\"\n",
      "                    ]\n",
      "                },\n",
      "                \"NUMBER\": \"1\",\n",
      "                \"SIZE\": \"MEDIUM\",\n",
      "                \"AllTopping\": [\n",
      "                    {\n",
      "                        \"NOT\": false,\n",
      "                        \"Quantity\": null,\n",
      "                        \"Topping\": \"DARK\"\n",
      "                    },\n",
      "                    {\n",
      "                        \"NOT\": false,\n",
      "                        \"Quantity\": null,\n",
      "                        \"Topping\": \"OLIVES\"\n",
      "                    },\n",
      "                    {\n",
      "                        \"NOT\": false,\n",
      "                        \"Quantity\": null,\n",
      "                        \"Topping\": \"ONIONS\"\n",
      "                    },\n",
      "                    {\n",
      "                        \"NOT\": true,\n",
      "                        \"Quantity\": null,\n",
      "                        \"Topping\": \"MUSHROOMS\"\n",
      "                    },\n",
      "                    {\n",
      "                        \"NOT\": true,\n",
      "                        \"Quantity\": null,\n",
      "                        \"Topping\": \"LIGHT\"\n",
      "                    }\n",
      "                ]\n",
      "            }\n",
      "        ],\n",
      "        \"DRINKORDER\": [\n",
      "            {\n",
      "                \"DRINKTYPE\": \"CHERRY_COKE\",\n",
      "                \"NUMBER\": \"4\",\n",
      "                \"SIZE\": \"LARGE\"\n",
      "            }\n",
      "        ]\n",
      "    }\n",
      "}\n"
     ]
    }
   ],
   "source": [
    "processed_toppings=process_toppings(json_string)\n",
    "print(processed_toppings)"
   ]
  },
  {
   "cell_type": "code",
   "execution_count": 249,
   "metadata": {},
   "outputs": [],
   "source": [
    "def process_order(order_json):\n",
    "    # Parse the input JSON\n",
    "    order = json.loads(order_json)\n",
    "    processed_order = {\"ORDER\": {\"PIZZAORDER\": [], \"DRINKORDER\": []}}\n",
    "    \n",
    "    for pizza in order[\"ORDER\"].get(\"PIZZAORDER\", []):\n",
    "        number = pizza.get(\"NUMBER\", \"null\")\n",
    "        size = pizza.get(\"SIZE\", \"null\")\n",
    "        style = pizza.get(\"STYLE\", 'null') \n",
    "        type_ = pizza.get(\"TYPE\", 'null')  \n",
    "        toppings = pizza.get(\"AllTopping\", [])\n",
    "        \n",
    "        excluded_toppings = pizza.get(\"NOT\", {}).get(\"TOPPING\", [])\n",
    "        toppings = [topping for topping in toppings if topping not in excluded_toppings]\n",
    "        \n",
    "        processed_order[\"ORDER\"][\"PIZZAORDER\"].append({\n",
    "            \"NUMBER\": number,\n",
    "            \"SIZE\": size,\n",
    "            \"STYLE\": style,\n",
    "            \"TYPE\": type_,\n",
    "            \"AllTopping\": toppings\n",
    "        })\n",
    "    for drink in order[\"ORDER\"].get(\"DRINKORDER\", []):\n",
    "        number = drink.get(\"NUMBER\", \"null\")\n",
    "        size = drink.get(\"SIZE\", \"null\")\n",
    "        drink_type = drink.get(\"DRINKTYPE\", \"null\")\n",
    "        container_type = drink.get(\"CONTAINERTYPE\", \"null\")\n",
    "\n",
    "        processed_order[\"ORDER\"][\"DRINKORDER\"].append({\n",
    "            \"NUMBER\": number,\n",
    "            \"SIZE\": size,\n",
    "            \"DRINKTYPE\": drink_type,\n",
    "            \"CONTAINERTYPE\": container_type\n",
    "        })\n",
    "    \n",
    "    return json.dumps(processed_order, indent=4)"
   ]
  },
  {
   "cell_type": "code",
   "execution_count": 250,
   "metadata": {},
   "outputs": [
    {
     "name": "stdout",
     "output_type": "stream",
     "text": [
      "{\n",
      "    \"ORDER\": {\n",
      "        \"PIZZAORDER\": [\n",
      "            {\n",
      "                \"NUMBER\": \"1\",\n",
      "                \"SIZE\": \"MEDIUM\",\n",
      "                \"STYLE\": \"null\",\n",
      "                \"TYPE\": \"null\",\n",
      "                \"AllTopping\": [\n",
      "                    {\n",
      "                        \"NOT\": false,\n",
      "                        \"Quantity\": null,\n",
      "                        \"Topping\": \"DARK\"\n",
      "                    },\n",
      "                    {\n",
      "                        \"NOT\": false,\n",
      "                        \"Quantity\": null,\n",
      "                        \"Topping\": \"OLIVES\"\n",
      "                    },\n",
      "                    {\n",
      "                        \"NOT\": false,\n",
      "                        \"Quantity\": null,\n",
      "                        \"Topping\": \"ONIONS\"\n",
      "                    },\n",
      "                    {\n",
      "                        \"NOT\": true,\n",
      "                        \"Quantity\": null,\n",
      "                        \"Topping\": \"MUSHROOMS\"\n",
      "                    },\n",
      "                    {\n",
      "                        \"NOT\": true,\n",
      "                        \"Quantity\": null,\n",
      "                        \"Topping\": \"LIGHT\"\n",
      "                    }\n",
      "                ]\n",
      "            }\n",
      "        ],\n",
      "        \"DRINKORDER\": [\n",
      "            {\n",
      "                \"NUMBER\": \"4\",\n",
      "                \"SIZE\": \"LARGE\",\n",
      "                \"DRINKTYPE\": \"CHERRY_COKE\",\n",
      "                \"CONTAINERTYPE\": \"null\"\n",
      "            }\n",
      "        ]\n",
      "    }\n",
      "}\n"
     ]
    }
   ],
   "source": [
    "output_json = process_order(processed_toppings)\n",
    "print(output_json)"
   ]
  }
 ],
 "metadata": {
  "kernelspec": {
   "display_name": "Python 3",
   "language": "python",
   "name": "python3"
  },
  "language_info": {
   "codemirror_mode": {
    "name": "ipython",
    "version": 3
   },
   "file_extension": ".py",
   "mimetype": "text/x-python",
   "name": "python",
   "nbconvert_exporter": "python",
   "pygments_lexer": "ipython3",
   "version": "3.11.4"
  }
 },
 "nbformat": 4,
 "nbformat_minor": 2
}
