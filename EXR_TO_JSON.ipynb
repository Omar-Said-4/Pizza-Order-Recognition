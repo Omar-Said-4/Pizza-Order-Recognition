{
 "cells": [
  {
   "cell_type": "code",
   "execution_count": 199,
   "metadata": {},
   "outputs": [],
   "source": [
    "import json\n",
    "import re"
   ]
  },
  {
   "cell_type": "code",
   "execution_count": 200,
   "metadata": {},
   "outputs": [],
   "source": [
    "test_string='(ORDER  (PIZZAORDER (NUMBER 1 ) (NOT (STYLE THIN_CRUST ) ) (SIZE SMALL ) (NOT(TOPPING PEPPERS )) (TOPPING PINEAPPLE ) (TOPPING SAUSAGE ) ) ) )'"
   ]
  },
  {
   "cell_type": "code",
   "execution_count": 201,
   "metadata": {},
   "outputs": [],
   "source": [
    "def parse_to_dict(s):\n",
    "    def parse(tokens):\n",
    "        token = tokens.pop(0)\n",
    "        if token == '(':\n",
    "            key = tokens.pop(0)\n",
    "            nested = {}\n",
    "            while len(tokens) > 0 and tokens[0] != ')':\n",
    "                if tokens[0] == '(':\n",
    "                    temp_dict=parse(tokens)\n",
    "                    for k,v in temp_dict.items():\n",
    "                        if k in nested:\n",
    "                            nested[k].append(v)\n",
    "                        elif k == 'DRINKORDER' or k == 'PIZZAORDER' or k =='TOPPING' or k =='NOT' or k =='COMPLEX_TOPPING':\n",
    "                            nested[k]=[v]\n",
    "                        else:\n",
    "                            nested[k] = v\n",
    "                else:\n",
    "                    sub_key = tokens.pop(0)\n",
    "                    if tokens[0] == ')':\n",
    "                        tokens.pop(0)\n",
    "                        return {key: sub_key}\n",
    "            if len(tokens) > 0:\n",
    "                tokens.pop(0)  \n",
    "            return {key: nested}\n",
    "        elif token == ')':\n",
    "            return {}\n",
    "\n",
    "    # Tokenize the string\n",
    "    tokens = re.findall(r'\\(|\\)|\\w+', s)\n",
    "    return parse(tokens)"
   ]
  },
  {
   "cell_type": "code",
   "execution_count": 202,
   "metadata": {},
   "outputs": [
    {
     "name": "stdout",
     "output_type": "stream",
     "text": [
      "{'ORDER': {'PIZZAORDER': [{'NUMBER': '1', 'NOT': [{'STYLE': 'THIN_CRUST'}, {'TOPPING': ['PEPPERS']}], 'SIZE': 'SMALL', 'TOPPING': ['PINEAPPLE', 'SAUSAGE']}]}}\n"
     ]
    }
   ],
   "source": [
    "result = parse_to_dict(test_string)\n",
    "print(result)"
   ]
  },
  {
   "cell_type": "code",
   "execution_count": 203,
   "metadata": {},
   "outputs": [],
   "source": [
    "def normalize_dict_values(data):\n",
    "    def normalize(data):\n",
    "        if isinstance(data, dict):\n",
    "            normalized_data = {}\n",
    "            for key, value in data.items():\n",
    "                if key in ['TOPPING', 'NOT' 'PIZZAORDER', 'DRINKORDER']:\n",
    "                    normalized_data[key] = normalize(value)  # Keep these as lists\n",
    "                elif isinstance(value, list) and len(value) == 1:\n",
    "                    normalized_data[key] = normalize(value[0])  # Flatten single-item lists\n",
    "                else:\n",
    "                    normalized_data[key] = normalize(value)\n",
    "            return normalized_data\n",
    "        else:\n",
    "            return data\n",
    "\n",
    "    return normalize(data)"
   ]
  },
  {
   "cell_type": "code",
   "execution_count": 204,
   "metadata": {},
   "outputs": [
    {
     "name": "stdout",
     "output_type": "stream",
     "text": [
      "{'ORDER': {'PIZZAORDER': {'NUMBER': '1', 'NOT': [{'STYLE': 'THIN_CRUST'}, {'TOPPING': ['PEPPERS']}], 'SIZE': 'SMALL', 'TOPPING': ['PINEAPPLE', 'SAUSAGE']}}}\n"
     ]
    }
   ],
   "source": [
    "normalized_data = normalize_dict_values(result)\n",
    "print(normalized_data)"
   ]
  },
  {
   "cell_type": "code",
   "execution_count": 205,
   "metadata": {},
   "outputs": [],
   "source": [
    "def normalize_dict_values(data):\n",
    "    def normalize(data):\n",
    "        if isinstance(data, dict):\n",
    "            normalized_data = {}\n",
    "            for key, value in data.items():\n",
    "                if isinstance(value, list) and len(value) == 1 and key not in ['TOPPING', 'PIZZAORDER', 'DRINKORDER']:\n",
    "                    # Convert single-item lists to direct values\n",
    "                    normalized_data[key] = normalize(value[0])\n",
    "                else:\n",
    "                    normalized_data[key] = normalize(value)\n",
    "            return normalized_data\n",
    "        else:\n",
    "            return data\n",
    "\n",
    "    return normalize(data)"
   ]
  },
  {
   "cell_type": "code",
   "execution_count": 206,
   "metadata": {},
   "outputs": [
    {
     "name": "stdout",
     "output_type": "stream",
     "text": [
      "{\"ORDER\": {\"PIZZAORDER\": [{\"NUMBER\": \"1\", \"NOT\": [{\"STYLE\": \"THIN_CRUST\"}, {\"TOPPING\": [\"PEPPERS\"]}], \"SIZE\": \"SMALL\", \"TOPPING\": [\"PINEAPPLE\", \"SAUSAGE\"]}]}}\n"
     ]
    }
   ],
   "source": [
    "json_string = json.dumps(result)\n",
    "print(json_string)"
   ]
  },
  {
   "cell_type": "code",
   "execution_count": 207,
   "metadata": {},
   "outputs": [],
   "source": [
    "def process_toppings(order_json):\n",
    "\n",
    "    order = json.loads(order_json)\n",
    "    processed_order = {\"ORDER\": {\"PIZZAORDER\": [], \"DRINKORDER\": []}}\n",
    "    \n",
    "    for pizza in order[\"ORDER\"].get(\"PIZZAORDER\", []):\n",
    "        toppings = pizza.get(\"TOPPING\", [])\n",
    "        complex_toppings = pizza.get(\"COMPLEX_TOPPING\", [])\n",
    "        excluded = pizza.get(\"NOT\", {})\n",
    "        excluded_toppings = []\n",
    "        tops=[]\n",
    "        style_excluded=False\n",
    "        style = None\n",
    "        for exc in excluded:\n",
    "            tops.append(exc.get(\"TOPPING\", []))\n",
    "            if exc.get(\"STYLE\", False):\n",
    "                style_excluded=True\n",
    "                style = exc.get(\"STYLE\", {})    \n",
    "            if not style_excluded:\n",
    "                style=pizza.get(\"STYLE\", \"null\")           \n",
    "        for top in tops:\n",
    "            for i in range(len(top)):\n",
    "                excluded_toppings.append(top[i])\n",
    "        if \"NOT\" in pizza:\n",
    "            del pizza[\"NOT\"]\n",
    "        if \"STYLE\" in pizza: \n",
    "            del pizza[\"STYLE\"]\n",
    "        if \"TOPPING\" in pizza:\n",
    "            del pizza[\"TOPPING\"]\n",
    "        if \"COMPLEX_TOPPING\" in pizza:\n",
    "            del pizza[\"COMPLEX_TOPPING\"]\n",
    "        all_toppings = []\n",
    "        \n",
    "        for topping in toppings:\n",
    "            all_toppings.append({\n",
    "                \"NOT\": False,\n",
    "                \"Quantity\": None,  \n",
    "                \"Topping\": topping\n",
    "            })\n",
    "        \n",
    "        for topping in excluded_toppings:\n",
    "            all_toppings.append({\n",
    "                \"NOT\": True,\n",
    "                \"Quantity\": None,  \n",
    "                \"Topping\": topping\n",
    "            })\n",
    "        for complex_topping in complex_toppings:\n",
    "            complex_quantity = complex_topping.get(\"QUANTITY\", None)\n",
    "            complex_topping_list = complex_topping.get(\"TOPPING\", [])\n",
    "            for topping in complex_topping_list:\n",
    "                all_toppings.append({\n",
    "                    \"NOT\": False,\n",
    "                    \"Quantity\": complex_quantity,\n",
    "                    \"Topping\": topping\n",
    "                })\n",
    "        for drink in order[\"ORDER\"].get(\"DRINKORDER\", []):\n",
    "            processed_order[\"ORDER\"][\"DRINKORDER\"].append(drink)\n",
    "        # Add the pizza order with updated AllTopping\n",
    "        new_pizza_order = {**pizza, \"AllTopping\": all_toppings, \"STYLE\": {\"NOT\" : style_excluded, \"TYPE\": style}}\n",
    "        processed_order[\"ORDER\"][\"PIZZAORDER\"].append(new_pizza_order)\n",
    "    return json.dumps(processed_order, indent=4)"
   ]
  },
  {
   "cell_type": "code",
   "execution_count": 208,
   "metadata": {},
   "outputs": [
    {
     "ename": "TypeError",
     "evalue": "list indices must be integers or slices, not str",
     "output_type": "error",
     "traceback": [
      "\u001b[1;31m---------------------------------------------------------------------------\u001b[0m",
      "\u001b[1;31mTypeError\u001b[0m                                 Traceback (most recent call last)",
      "Cell \u001b[1;32mIn[208], line 1\u001b[0m\n\u001b[1;32m----> 1\u001b[0m processed_toppings\u001b[38;5;241m=\u001b[39m\u001b[43mprocess_toppings\u001b[49m\u001b[43m(\u001b[49m\u001b[43mjson_string\u001b[49m\u001b[43m)\u001b[49m\n\u001b[0;32m      2\u001b[0m \u001b[38;5;28mprint\u001b[39m(processed_toppings)\n",
      "Cell \u001b[1;32mIn[207], line 61\u001b[0m, in \u001b[0;36mprocess_toppings\u001b[1;34m(order_json)\u001b[0m\n\u001b[0;32m     59\u001b[0m     new_pizza_order \u001b[38;5;241m=\u001b[39m {\u001b[38;5;241m*\u001b[39m\u001b[38;5;241m*\u001b[39mpizza, \u001b[38;5;124m\"\u001b[39m\u001b[38;5;124mAllTopping\u001b[39m\u001b[38;5;124m\"\u001b[39m: all_toppings}\n\u001b[0;32m     60\u001b[0m     processed_order[\u001b[38;5;124m\"\u001b[39m\u001b[38;5;124mORDER\u001b[39m\u001b[38;5;124m\"\u001b[39m][\u001b[38;5;124m\"\u001b[39m\u001b[38;5;124mPIZZAORDER\u001b[39m\u001b[38;5;124m\"\u001b[39m]\u001b[38;5;241m.\u001b[39mappend(new_pizza_order)\n\u001b[1;32m---> 61\u001b[0m     \u001b[43mprocessed_order\u001b[49m\u001b[43m[\u001b[49m\u001b[38;5;124;43m\"\u001b[39;49m\u001b[38;5;124;43mORDER\u001b[39;49m\u001b[38;5;124;43m\"\u001b[39;49m\u001b[43m]\u001b[49m\u001b[43m[\u001b[49m\u001b[38;5;124;43m\"\u001b[39;49m\u001b[38;5;124;43mPIZZAORDER\u001b[39;49m\u001b[38;5;124;43m\"\u001b[39;49m\u001b[43m]\u001b[49m\u001b[43m[\u001b[49m\u001b[38;5;124;43m\"\u001b[39;49m\u001b[38;5;124;43mSTYLE\u001b[39;49m\u001b[38;5;124;43m\"\u001b[39;49m\u001b[43m]\u001b[49m\u001b[38;5;241m=\u001b[39m{\u001b[38;5;124m\"\u001b[39m\u001b[38;5;124mNOT\u001b[39m\u001b[38;5;124m\"\u001b[39m : style_excluded, \u001b[38;5;124m\"\u001b[39m\u001b[38;5;124mTYPE\u001b[39m\u001b[38;5;124m\"\u001b[39m: style}\n\u001b[0;32m     62\u001b[0m \u001b[38;5;28;01mreturn\u001b[39;00m json\u001b[38;5;241m.\u001b[39mdumps(processed_order, indent\u001b[38;5;241m=\u001b[39m\u001b[38;5;241m4\u001b[39m)\n",
      "\u001b[1;31mTypeError\u001b[0m: list indices must be integers or slices, not str"
     ]
    }
   ],
   "source": [
    "processed_toppings=process_toppings(json_string)\n",
    "print(processed_toppings)"
   ]
  },
  {
   "cell_type": "code",
   "execution_count": 187,
   "metadata": {},
   "outputs": [],
   "source": [
    "def process_order(order_json):\n",
    "    # Parse the input JSON\n",
    "    order = json.loads(order_json)\n",
    "    processed_order = {\"ORDER\": {\"PIZZAORDER\": [], \"DRINKORDER\": []}}\n",
    "    \n",
    "    for pizza in order[\"ORDER\"].get(\"PIZZAORDER\", []):\n",
    "        number = pizza.get(\"NUMBER\", \"null\")\n",
    "        size = pizza.get(\"SIZE\", \"null\")\n",
    "        style = pizza.get(\"STYLE\", 'null') \n",
    "        type_ = pizza.get(\"TYPE\", 'null')  \n",
    "        toppings = pizza.get(\"AllTopping\", [])\n",
    "        \n",
    "        excluded_toppings = pizza.get(\"NOT\", {}).get(\"TOPPING\", [])\n",
    "        toppings = [topping for topping in toppings if topping not in excluded_toppings]\n",
    "        \n",
    "        processed_order[\"ORDER\"][\"PIZZAORDER\"].append({\n",
    "            \"NUMBER\": number,\n",
    "            \"SIZE\": size,\n",
    "            \"STYLE\": style,\n",
    "            \"TYPE\": type_,\n",
    "            \"AllTopping\": toppings\n",
    "        })\n",
    "    for drink in order[\"ORDER\"].get(\"DRINKORDER\", []):\n",
    "        number = drink.get(\"NUMBER\", \"null\")\n",
    "        size = drink.get(\"SIZE\", \"null\")\n",
    "        drink_type = drink.get(\"DRINKTYPE\", \"null\")\n",
    "        container_type = drink.get(\"CONTAINERTYPE\", \"null\")\n",
    "\n",
    "        processed_order[\"ORDER\"][\"DRINKORDER\"].append({\n",
    "            \"NUMBER\": number,\n",
    "            \"SIZE\": size,\n",
    "            \"DRINKTYPE\": drink_type,\n",
    "            \"CONTAINERTYPE\": container_type\n",
    "        })\n",
    "    \n",
    "    return json.dumps(processed_order, indent=4)"
   ]
  },
  {
   "cell_type": "code",
   "execution_count": 188,
   "metadata": {},
   "outputs": [
    {
     "name": "stdout",
     "output_type": "stream",
     "text": [
      "{\n",
      "    \"ORDER\": {\n",
      "        \"PIZZAORDER\": [\n",
      "            {\n",
      "                \"NUMBER\": \"1\",\n",
      "                \"SIZE\": \"SMALL\",\n",
      "                \"STYLE\": \"null\",\n",
      "                \"TYPE\": \"null\",\n",
      "                \"AllTopping\": [\n",
      "                    {\n",
      "                        \"NOT\": false,\n",
      "                        \"Quantity\": null,\n",
      "                        \"Topping\": \"PINEAPPLE\"\n",
      "                    },\n",
      "                    {\n",
      "                        \"NOT\": false,\n",
      "                        \"Quantity\": null,\n",
      "                        \"Topping\": \"SAUSAGE\"\n",
      "                    },\n",
      "                    {\n",
      "                        \"NOT\": true,\n",
      "                        \"Quantity\": null,\n",
      "                        \"Topping\": \"PEPPERS\"\n",
      "                    }\n",
      "                ]\n",
      "            }\n",
      "        ],\n",
      "        \"DRINKORDER\": []\n",
      "    }\n",
      "}\n"
     ]
    }
   ],
   "source": [
    "output_json = process_order(processed_toppings)\n",
    "print(output_json)"
   ]
  }
 ],
 "metadata": {
  "kernelspec": {
   "display_name": "Python 3",
   "language": "python",
   "name": "python3"
  },
  "language_info": {
   "codemirror_mode": {
    "name": "ipython",
    "version": 3
   },
   "file_extension": ".py",
   "mimetype": "text/x-python",
   "name": "python",
   "nbconvert_exporter": "python",
   "pygments_lexer": "ipython3",
   "version": "3.11.4"
  }
 },
 "nbformat": 4,
 "nbformat_minor": 2
}
