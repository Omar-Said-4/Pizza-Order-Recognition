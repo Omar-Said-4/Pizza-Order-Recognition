{
 "cells": [
  {
   "cell_type": "markdown",
   "metadata": {},
   "source": [
    "## Dependencies"
   ]
  },
  {
   "cell_type": "code",
   "execution_count": 44,
   "metadata": {},
   "outputs": [
    {
     "name": "stdout",
     "output_type": "stream",
     "text": [
      "Requirement already satisfied: clean-text in c:\\program files\\python311\\lib\\site-packages (0.6.0)\n",
      "Requirement already satisfied: emoji<2.0.0,>=1.0.0 in c:\\program files\\python311\\lib\\site-packages (from clean-text) (1.7.0)\n",
      "Requirement already satisfied: ftfy<7.0,>=6.0 in c:\\program files\\python311\\lib\\site-packages (from clean-text) (6.3.1)\n",
      "Requirement already satisfied: wcwidth in c:\\users\\omara\\appdata\\roaming\\python\\python311\\site-packages (from ftfy<7.0,>=6.0->clean-text) (0.2.8)\n",
      "Requirement already satisfied: inflect in c:\\program files\\python311\\lib\\site-packages (7.4.0)\n",
      "Requirement already satisfied: more-itertools>=8.5.0 in c:\\users\\omara\\appdata\\roaming\\python\\python311\\site-packages (from inflect) (10.3.0)\n",
      "Requirement already satisfied: typeguard>=4.0.1 in c:\\program files\\python311\\lib\\site-packages (from inflect) (4.4.1)\n",
      "Requirement already satisfied: typing-extensions>=4.10.0 in c:\\program files\\python311\\lib\\site-packages (from typeguard>=4.0.1->inflect) (4.12.2)\n"
     ]
    }
   ],
   "source": [
    "!pip install clean-text\n",
    "!pip install inflect"
   ]
  },
  {
   "cell_type": "code",
   "execution_count": 45,
   "metadata": {},
   "outputs": [
    {
     "name": "stderr",
     "output_type": "stream",
     "text": [
      "[nltk_data] Downloading package stopwords to\n",
      "[nltk_data]     C:\\Users\\omara\\AppData\\Roaming\\nltk_data...\n",
      "[nltk_data]   Package stopwords is already up-to-date!\n",
      "[nltk_data] Downloading package punkt to\n",
      "[nltk_data]     C:\\Users\\omara\\AppData\\Roaming\\nltk_data...\n",
      "[nltk_data]   Package punkt is already up-to-date!\n",
      "[nltk_data] Downloading package wordnet to\n",
      "[nltk_data]     C:\\Users\\omara\\AppData\\Roaming\\nltk_data...\n",
      "[nltk_data]   Package wordnet is already up-to-date!\n"
     ]
    },
    {
     "data": {
      "text/plain": [
       "True"
      ]
     },
     "execution_count": 45,
     "metadata": {},
     "output_type": "execute_result"
    }
   ],
   "source": [
    "import numpy as np\n",
    "import pandas as pd\n",
    "import re\n",
    "import inflect\n",
    "from cleantext import clean\n",
    "import json\n",
    "import nltk\n",
    "from nltk.corpus import stopwords\n",
    "from nltk.corpus import wordnet\n",
    "from nltk.tokenize import word_tokenize\n",
    "from nltk.stem import WordNetLemmatizer\n",
    "import random\n",
    "nltk.download('stopwords')\n",
    "nltk.download('punkt')\n",
    "nltk.download('wordnet')\n"
   ]
  },
  {
   "cell_type": "code",
   "execution_count": 46,
   "metadata": {},
   "outputs": [
    {
     "name": "stdout",
     "output_type": "stream",
     "text": [
      "Path: PIZZA_dev.json\n",
      "Lines: 348\n"
     ]
    }
   ],
   "source": [
    "datatype = 'train' \n",
    "\n",
    "path = (\n",
    "    'PIZZA_train.json' if datatype == 'train' else\n",
    "    'PIZZA_dev.json' if datatype == 'dev' else\n",
    "    'PIZZA_test.json' if datatype == 'test' else\n",
    "    'unknown.json'  # Optional fallback\n",
    ")\n",
    "\n",
    "lines = (\n",
    "    2457303 if datatype == 'train' else\n",
    "    348 if datatype == 'dev' else\n",
    "    500 if datatype == 'test' else\n",
    "    0  \n",
    ")\n",
    "\n",
    "print(f\"Path: {path}\")\n",
    "print(f\"Lines: {lines}\")\n"
   ]
  },
  {
   "cell_type": "markdown",
   "metadata": {},
   "source": [
    "## Parsing JSON File"
   ]
  },
  {
   "cell_type": "code",
   "execution_count": 47,
   "metadata": {},
   "outputs": [],
   "source": [
    "\n",
    "#! load data given file path and number of line to load\n",
    "def load_data(data, file_path,num_lines):\n",
    "    # data = []\n",
    "    with open(file_path, 'r') as file: \n",
    "        for _ in range(num_lines):\n",
    "            data.append(json.loads(file.readline()))\n",
    "            # i+=1\n",
    "    #         if i%100000==0 or (i>2450000):\n",
    "    #             print(i) \n",
    "    # print(f\"Loaded {num_lines} lines\")\n",
    "    # return data\n",
    "# def load_random_data(file_path, num_lines, last_lines):\n",
    "#     data = []\n",
    "    \n",
    "#     with open(file_path, 'r') as file:\n",
    "#         file.seek(0, 2)  # Move to the end of the file to get its size\n",
    "#         file_size = file.tell()\n",
    "        \n",
    "#         # Read the last `last_lines` lines\n",
    "#         file.seek(max(file_size - 1024 * last_lines, 0))  # Optional: Adjust the seek window size for efficiency\n",
    "#         lines = file.readlines()\n",
    "#         last_lines_data = [json.loads(line.strip()) for line in lines[-last_lines:] if line.strip()]\n",
    "#         data.extend(last_lines_data)\n",
    "\n",
    "#         # Read `num_lines` random lines from the rest of the file (excluding the last `last_lines` lines)\n",
    "#         remaining_lines = file_size - sum(len(line) for line in lines[-last_lines:])\n",
    "#         for _ in range(num_lines):\n",
    "#             while True:\n",
    "#                 # Pick a random position outside the last `last_lines` range\n",
    "#                 random_pos = random.randint(0, remaining_lines - 1)\n",
    "#                 file.seek(random_pos)\n",
    "                \n",
    "#                 # Read to the end of the current line to avoid partial lines\n",
    "#                 file.readline()\n",
    "#                 line = file.readline()  # Read the next line (complete line)\n",
    "#                 if line:  # Ensure it's not an empty line\n",
    "#                     # Check if it's not from the last `last_lines` lines\n",
    "#                     # if any(line.strip() == last_line for last_line in last_lines_data):\n",
    "#                     #     continue  # Skip if it's from the last lines\n",
    "#                     try:\n",
    "#                         data.append(json.loads(line.strip()))\n",
    "#                         break  # Exit the loop for this line\n",
    "#                     except json.JSONDecodeError:\n",
    "#                         continue  # Skip if it's not valid JSON\n",
    "#     return data\n"
   ]
  },
  {
   "cell_type": "code",
   "execution_count": 48,
   "metadata": {},
   "outputs": [
    {
     "name": "stdout",
     "output_type": "stream",
     "text": [
      "Loaded 348 lines\n",
      "[{'dev.SRC': 'i want to order two medium pizzas with sausage and black olives and two medium pizzas with pepperoni and extra cheese and three large pizzas with pepperoni and sausage', 'dev.EXR': '(ORDER (PIZZAORDER (NUMBER 2 ) (SIZE MEDIUM ) (COMPLEX_TOPPING (QUANTITY EXTRA ) (TOPPING CHEESE ) ) (TOPPING PEPPERONI ) ) (PIZZAORDER (NUMBER 2 ) (SIZE MEDIUM ) (TOPPING OLIVES ) (TOPPING SAUSAGE ) ) (PIZZAORDER (NUMBER 3 ) (SIZE LARGE ) (TOPPING PEPPERONI ) (TOPPING SAUSAGE ) ) )', 'dev.TOP': '(ORDER i want to order (PIZZAORDER (NUMBER two ) (SIZE medium ) pizzas with (TOPPING sausage ) and (TOPPING black olives ) ) and (PIZZAORDER (NUMBER two ) (SIZE medium ) pizzas with (TOPPING pepperoni ) and (COMPLEX_TOPPING (QUANTITY extra ) (TOPPING cheese ) ) ) and (PIZZAORDER (NUMBER three ) (SIZE large ) pizzas with (TOPPING pepperoni ) and (TOPPING sausage ) ) )', 'dev.PCFG_ERR': 'False'}, {'dev.SRC': 'five medium pizzas with tomatoes and ham', 'dev.EXR': '(ORDER (PIZZAORDER (NUMBER 5 ) (SIZE MEDIUM ) (TOPPING HAM ) (TOPPING TOMATOES ) ) )', 'dev.TOP': '(ORDER (PIZZAORDER (NUMBER five ) (SIZE medium ) pizzas with (TOPPING tomatoes ) and (TOPPING ham ) ) )', 'dev.PCFG_ERR': 'False'}, {'dev.SRC': 'i need to order one large vegetarian pizza with extra banana peppers', 'dev.EXR': '(ORDER (PIZZAORDER (NUMBER 1 ) (SIZE LARGE ) (STYLE VEGETARIAN ) (COMPLEX_TOPPING (QUANTITY EXTRA ) (TOPPING BANANA_PEPPERS ) ) ) )', 'dev.TOP': '(ORDER i need to order (PIZZAORDER (NUMBER one ) (SIZE large ) (STYLE vegetarian ) pizza with (COMPLEX_TOPPING (QUANTITY extra ) (TOPPING banana peppers ) ) ) )', 'dev.PCFG_ERR': 'False'}, {'dev.SRC': \"i'd like to order a large onion and pepper pizza\", 'dev.EXR': '(ORDER (PIZZAORDER (NUMBER 1 ) (SIZE LARGE ) (TOPPING ONIONS ) (TOPPING PEPPERS ) ) )', 'dev.TOP': \"(ORDER i'd like to order (PIZZAORDER (NUMBER a ) (SIZE large ) (TOPPING onion ) and (TOPPING pepper ) pizza ) )\", 'dev.PCFG_ERR': 'False'}, {'dev.SRC': \"i'll have one pie along with pesto and ham but avoid olives\", 'dev.EXR': '(ORDER (PIZZAORDER (NOT (TOPPING OLIVES ) ) (NUMBER 1 ) (TOPPING HAM ) (TOPPING PESTO ) ) )', 'dev.TOP': \"(ORDER i'll have (PIZZAORDER (NUMBER one ) pie along with (TOPPING pesto ) and (TOPPING ham ) but avoid (NOT (TOPPING olives ) ) ) )\", 'dev.PCFG_ERR': 'False'}]\n"
     ]
    }
   ],
   "source": [
    "data=[]\n",
    "load_data(data, path, lines)\n",
    "print(f\"Loaded {len(data)} lines\")\n",
    "print(data[:5])"
   ]
  },
  {
   "cell_type": "code",
   "execution_count": 49,
   "metadata": {},
   "outputs": [
    {
     "name": "stdout",
     "output_type": "stream",
     "text": [
      "['i want to order two medium pizzas with sausage and black olives and two medium pizzas with pepperoni and extra cheese and three large pizzas with pepperoni and sausage', 'five medium pizzas with tomatoes and ham']\n",
      "['(ORDER (PIZZAORDER (NUMBER 2 ) (SIZE MEDIUM ) (COMPLEX_TOPPING (QUANTITY EXTRA ) (TOPPING CHEESE ) ) (TOPPING PEPPERONI ) ) (PIZZAORDER (NUMBER 2 ) (SIZE MEDIUM ) (TOPPING OLIVES ) (TOPPING SAUSAGE ) ) (PIZZAORDER (NUMBER 3 ) (SIZE LARGE ) (TOPPING PEPPERONI ) (TOPPING SAUSAGE ) ) )', '(ORDER (PIZZAORDER (NUMBER 5 ) (SIZE MEDIUM ) (TOPPING HAM ) (TOPPING TOMATOES ) ) )']\n",
      "['(ORDER i want to order (PIZZAORDER (NUMBER two ) (SIZE medium ) pizzas with (TOPPING sausage ) and (TOPPING black olives ) ) and (PIZZAORDER (NUMBER two ) (SIZE medium ) pizzas with (TOPPING pepperoni ) and (COMPLEX_TOPPING (QUANTITY extra ) (TOPPING cheese ) ) ) and (PIZZAORDER (NUMBER three ) (SIZE large ) pizzas with (TOPPING pepperoni ) and (TOPPING sausage ) ) )', '(ORDER (PIZZAORDER (NUMBER five ) (SIZE medium ) pizzas with (TOPPING tomatoes ) and (TOPPING ham ) ) )']\n"
     ]
    }
   ],
   "source": [
    "#! split json data\n",
    "def getextensions(datatype):\n",
    "    if datatype=='train':\n",
    "        return 'train.SRC','train.EXR','train.TOP'\n",
    "    elif datatype=='dev':\n",
    "        return 'dev.SRC','dev.EXR','dev.TOP'\n",
    "    else:\n",
    "        return 'test.SRC','test.EXR','test.TOP'\n",
    "def get_training_data(data,datatype='train'):\n",
    "    values=getextensions(datatype)\n",
    "    training_data = []\n",
    "    training_exr=[]\n",
    "    training_top=[]\n",
    "    # training_top_dec=[]\n",
    "    for item in data:\n",
    "        training_data.append(item[values[0]])  \n",
    "        training_exr.append(item[values[1]])  \n",
    "        training_top.append(item[values[2]])\n",
    "        # if datatype=='train':\n",
    "        #     training_top_dec.append(item[values[3]])  \n",
    "    return training_data,training_exr,training_top\n",
    "training_data,training_exr,training_top=get_training_data(data,datatype)   \n",
    "print(training_data[:2])\n",
    "print(training_exr[:2])\n",
    "print(training_top[:2])\n"
   ]
  },
  {
   "cell_type": "code",
   "execution_count": 50,
   "metadata": {},
   "outputs": [],
   "source": [
    "# Create an inflect engine\n",
    "p = inflect.engine()\n",
    "\n",
    "def replace_numbers_with_words(text):\n",
    "    # Regular expression to find numbers in the text\n",
    "    number_pattern = r'\\b\\d+\\b'\n",
    "    \n",
    "    # Function to convert a number match to its word representation\n",
    "    def number_to_words(match):\n",
    "        number = int(match.group())\n",
    "        # Convert to words and replace hyphens with underscores\n",
    "        return p.number_to_words(number, andword=\"\").replace('-', '_')\n",
    "\n",
    "    \n",
    "    # Substitute numbers with their word representation\n",
    "    text = re.sub(number_pattern, number_to_words, text)\n",
    "    \n",
    "    # Replace the standalone 'a' with 'one' only when it reprsents a\n",
    "    text = re.sub(\n",
    "        r'\\b[aA]\\b(?! ((lot)|(little)|(few)|(number)|(couple)|(number)|(bit)|(number)|(bit)|(load)|(stack)|(bunch)|(group)|(set)|(series)|(variety)|(range)|(number)|(amount)|(sum)|(tiny)|(total)))',\n",
    "        'one',\n",
    "        text\n",
    "    )\n",
    "    text=re.sub(r'\\ban\\b', 'one', text)\n",
    "    return text"
   ]
  },
  {
   "cell_type": "code",
   "execution_count": 51,
   "metadata": {},
   "outputs": [
    {
     "name": "stdout",
     "output_type": "stream",
     "text": [
      "one onion, a lot of effort, a little joy, one book, a bunch of cheese, one dog.\n"
     ]
    }
   ],
   "source": [
    "text = \"an onion, a lot of effort, a little joy, a book, a bunch of cheese, a dog.\"\n",
    "print(replace_numbers_with_words(text))\n"
   ]
  },
  {
   "cell_type": "code",
   "execution_count": 52,
   "metadata": {},
   "outputs": [],
   "source": [
    "#! a function to handle negations\n",
    "def handle_negations(text):\n",
    "    #! negations are based on training set\n",
    "    negations_pattern = r\"\\b(?:no|not|without)\\s+.*?\\b(?=(?:[^\\w\\s]|$))\"\n",
    "    # print(re.findall(negations_pattern, text))\n",
    "    text = re.sub(negations_pattern, lambda x: ' '.join([f'not_{word}' for word in x.group(0).split()]), text)\n",
    "    return text"
   ]
  },
  {
   "cell_type": "code",
   "execution_count": 53,
   "metadata": {},
   "outputs": [],
   "source": [
    "#!# lemmatize words with all possible pos tags\n",
    "def lem_word(word):\n",
    "    if word == 'bit':\n",
    "        return word\n",
    "    possible_pos = [wordnet.NOUN, wordnet.VERB, wordnet.ADJ, wordnet.ADV]\n",
    "    lemmatizer = WordNetLemmatizer()\n",
    "    for pos in possible_pos:\n",
    "        word=lemmatizer.lemmatize(word,pos)\n",
    "    return word\n"
   ]
  },
  {
   "cell_type": "code",
   "execution_count": 54,
   "metadata": {},
   "outputs": [],
   "source": [
    "lemmatizer = WordNetLemmatizer()\n",
    "#! stopwords list (adding not_)\n",
    "stopwords = set(stopwords.words('english'))\n",
    "stopwords.add('like')\n",
    "not_stopwords = ['not_' + word for word in stopwords]\n",
    "# stopwords.update(not_stopwords)\n",
    "# stopwords.discard('a')\n",
    "# stopwords.discard('an')\n",
    "# stopwords.discard('not')\n",
    "# stopwords.discard('no')\n",
    "# stopwords.discard('can')\n",
    "# stopwords.discard('not_a')\n",
    "# stopwords.discard('not_an')\n",
    "# stopwords.discard('not_can')\n",
    "# stopwords.discard('not_no')\n",
    "stopwords=set()\n",
    "# stopwords.add('and')\n",
    "# stopwords.add('also')"
   ]
  },
  {
   "cell_type": "code",
   "execution_count": 55,
   "metadata": {},
   "outputs": [
    {
     "name": "stdout",
     "output_type": "stream",
     "text": [
      "[['i', 'want', 'to', 'order', 'two', 'medium', 'pizza', 'with', 'sausage', 'and', 'black', 'olive', 'and', 'two', 'medium', 'pizza', 'with', 'pepperoni', 'and', 'extra', 'cheese', 'and', 'three', 'large', 'pizza', 'with', 'pepperoni', 'and', 'sausage'], ['five', 'medium', 'pizza', 'with', 'tomato', 'and', 'ham'], ['i', 'need', 'to', 'order', 'one', 'large', 'vegetarian', 'pizza', 'with', 'extra', 'banana', 'pepper'], ['i', 'like', 'to', 'order', 'one', 'large', 'onion', 'and', 'pepper', 'pizza'], ['i', 'll', 'have', 'one', 'pie', 'along', 'with', 'pesto', 'and', 'ham', 'but', 'avoid', 'olive']]\n"
     ]
    }
   ],
   "source": [
    "#! tokenize training data and remove stop words\n",
    "def preprocess_training_data(training_data, stopwords):\n",
    "    # training_data = [handle_negations(order) for order in training_data]\n",
    "    training_data=[replace_numbers_with_words(order) for order in training_data]\n",
    "    training_data = [word_tokenize(order) for order in training_data]\n",
    "    training_data = [[word.lower() for word in order if word.lower() not in stopwords] for order in training_data]\n",
    "    training_data = [clean(order, no_line_breaks=True, no_punct=True, no_currency_symbols=True) for order in training_data]\n",
    "    # print(training_data)\n",
    "    #! remove d letter most probably garbage\n",
    "    training_data = [re.sub(r'\\bd\\s+', '', order) for order in training_data]\n",
    "    #! remove \"can\" at the beginning of the sentence\n",
    "    # training_data=[re.sub(r'^can\\s+', '', order) for order in training_data]\n",
    "    training_data = [word_tokenize(order) for order in training_data]\n",
    "    # training_data = [[lemmatizer.lemmatize(word) for word in order] for order in training_data]\n",
    "    training_data = [[lem_word(word) for word in order] for order in training_data]\n",
    "    return training_data\n",
    "training_data = preprocess_training_data(training_data, stopwords)\n",
    "print(training_data[:5])"
   ]
  },
  {
   "cell_type": "code",
   "execution_count": 56,
   "metadata": {},
   "outputs": [],
   "source": [
    "# def get_vocab_freq(data):\n",
    "#     vocab_freq = {}\n",
    "#     for d in data:\n",
    "#         for w in d:\n",
    "#             if w in vocab_freq:\n",
    "#                 vocab_freq[w] += 1\n",
    "#             else:\n",
    "#                 vocab_freq[w] = 1\n",
    "#     return vocab_freq\n",
    "# vocab_freq= get_vocab_freq(data)\n",
    "# print(type(vocab_freq))\n",
    "# def replace_with_unk(data, vocab_freq, threshold):\n",
    "#     unk = '<UNK>'\n",
    "#     data_unk = []\n",
    "#     for d in data:\n",
    "#         d_unk = [w if vocab_freq[w] >= threshold else unk for w in d]\n",
    "#         data_unk.append(d_unk)\n",
    "#     return data_unk\n",
    "# # training_data = replace_with_unk(training_data, vocab_freq, 50)\n",
    "# # print(training_data[:5])"
   ]
  },
  {
   "cell_type": "code",
   "execution_count": 57,
   "metadata": {},
   "outputs": [],
   "source": [
    "# vocab= set()\n",
    "# for d in training_data:\n",
    "#     vocab.update(d)\n",
    "# vocab.add('<PAD>')\n",
    "# vocab.add('<UNK>')\n",
    "# print(len(vocab))\n",
    "# print(vocab)\n",
    "# word2idx = {w: i for i, w in enumerate(vocab)}"
   ]
  },
  {
   "cell_type": "code",
   "execution_count": 58,
   "metadata": {},
   "outputs": [],
   "source": [
    "# #! save vocab and word2idx\n",
    "# with open('vocab.txt', 'w') as file:\n",
    "#     for w in vocab:\n",
    "#         file.write(f'{w}\\n')\n",
    "# with open('word2idx.json', 'w') as file:\n",
    "#     json.dump(word2idx, file)"
   ]
  },
  {
   "cell_type": "code",
   "execution_count": 59,
   "metadata": {},
   "outputs": [],
   "source": [
    "#! a utility function for extra parentheses ) removal \n",
    "#! handles COMPLEX_TOPPING, NOT,... parenthesis cases\n",
    "def remove_unmatched_parentheses(input_string):\n",
    "    result = list(input_string)  # Convert to list for mutability\n",
    "    last_bracket_index=-1\n",
    "    for i, char in enumerate(result):\n",
    "        if char == ')' and i+2 < len(result):\n",
    "            result[i] = ''  \n",
    "            last_bracket_index=i\n",
    "        elif char == '(':\n",
    "            if last_bracket_index!=-1:\n",
    "                result[last_bracket_index] = ')'\n",
    "                last_bracket_index=-1\n",
    "        elif char == ')' and i+2 >= len(result):\n",
    "            result[i] = ''\n",
    "            result[last_bracket_index] = ')'\n",
    "    return ''.join(result)"
   ]
  },
  {
   "cell_type": "code",
   "execution_count": 60,
   "metadata": {},
   "outputs": [
    {
     "name": "stdout",
     "output_type": "stream",
     "text": [
      "[[2, 2, 2, 2, 0, 0, 2, 2, 0, 2, 0, 0, 2, 0, 0, 2, 2, 0, 2, 0, 0, 2, 0, 0, 2, 2, 0, 2, 0], [0, 0, 2, 2, 0, 2, 0], [2, 2, 2, 2, 0, 0, 0, 2, 2, 0, 0, 0], [2, 2, 2, 2, 0, 0, 0, 2, 0, 0], [2, 2, 2, 0, 2, 2, 2, 0, 2, 0, 2, 2, 0]]\n"
     ]
    }
   ],
   "source": [
    "#! get PIZZAORDER, DRINKORDER, NONE Labels 0=>PIZZAORDER, 1=>DRINKORDER, 2=>NONE\n",
    "\n",
    "def get_order_category_labels(training_top, training_data, stopwords):\n",
    "    # print(training_data)\n",
    "    order_category_labels = []\n",
    "    for i, item in enumerate(training_top):\n",
    "        order_category_labels.append([2] * len(training_data[i]))\n",
    "        #! remove any extra labelling\n",
    "        # item = re.sub(r'\\)[^()]*\\(', ') (', item)\n",
    "        # print(item)\n",
    "        unwanted_keywords = r\"\\b(ORDER|SIZE|STYLE|TOPPING|COMPLEX_TOPPING|QUANTITY|NOT|NUMBER|DRINKTYPE|CONTAINERTYPE|VOLUME)\\b\"\n",
    "        cleaned_string = re.sub('\\('+unwanted_keywords, \"\", item)\n",
    "        cleaned_string = [word for word in cleaned_string.split() if word.lower() not in stopwords]\n",
    "        cleaned_string = ' '.join(cleaned_string)\n",
    "        cleaned_string = remove_unmatched_parentheses(cleaned_string)\n",
    "        order_regex = r\"\\((?:PIZZAORDER|DRINKORDER).*?\\)\"\n",
    "        extracted_orders = re.findall(order_regex, cleaned_string)\n",
    "        k = 0\n",
    "        for order in extracted_orders:\n",
    "            order=replace_numbers_with_words(order)\n",
    "            order = re.sub(r\"[\\(\\)]\", \"\", order)\n",
    "            order=word_tokenize(order) #! fix id and don't bugs\n",
    "            order=clean(order, no_line_breaks=True, no_punct=True, no_currency_symbols=True)\n",
    "            order=re.sub(r'\\bd\\s+', '', order) #! for d removal\n",
    "            tokens = word_tokenize(order)\n",
    "            # tokens = [lemmatizer.lemmatize(word) for word in tokens]\n",
    "            tokens = [lem_word(word) for word in tokens]\n",
    "            # print(tokens)\n",
    "            j = 0\n",
    "            to_index_train=training_data[i][k:]\n",
    "            if 'pizzaorder' in tokens:\n",
    "                tokens.remove('pizzaorder')\n",
    "                for word in to_index_train:\n",
    "                    if j == len(tokens):\n",
    "                        break\n",
    "                    if word == tokens[j]:\n",
    "                        order_category_labels[i][k] = 0\n",
    "                        j += 1\n",
    "                    k += 1\n",
    "                 #! EOP label\n",
    "                # order_category_labels[i][k-1] = 3\n",
    "            elif 'drinkorder' in tokens:\n",
    "                tokens.remove('drinkorder')\n",
    "                for word in to_index_train:\n",
    "                    if j == len(tokens):\n",
    "                        break\n",
    "                    if word == tokens[j]:\n",
    "                        order_category_labels[i][k] = 1\n",
    "                        j += 1\n",
    "                    k += 1\n",
    "                #! EOD label\n",
    "                # order_category_labels[i][k-1] = 4\n",
    "    return order_category_labels\n",
    "\n",
    "order_category_labels = get_order_category_labels(training_top, training_data, stopwords)\n",
    "print(order_category_labels[:5])\n",
    "    \n",
    "\n",
    " "
   ]
  },
  {
   "cell_type": "code",
   "execution_count": 61,
   "metadata": {},
   "outputs": [],
   "source": [
    "#! save processed training dataset\n",
    "path = (\n",
    "    'dataset/training_data_processed.txt' if datatype == 'train' else\n",
    "    'dataset/dev_data_processed.txt' if datatype == 'dev' else\n",
    "    'dataset/test_data_processed.txt' if datatype == 'test' else\n",
    "    'unknown_data_processed.txt'  # Optional fallback\n",
    ")\n",
    "\n",
    "with open(path, 'a') as f: #### dev_data_processed.txt\n",
    "    for item in training_data:\n",
    "        f.write(\"%s\\n\" % item)"
   ]
  },
  {
   "cell_type": "code",
   "execution_count": 62,
   "metadata": {},
   "outputs": [],
   "source": [
    "path = (\n",
    "    'dataset/train_order_category_labels.txt' if datatype == 'train' else\n",
    "    'dataset/dev_order_category_labels.txt' if datatype == 'dev' else\n",
    "    'dataset/test_order_category_labels.txt' if datatype == 'test' else\n",
    "    'unknown_order_category_labels.txt'  # Optional fallback\n",
    ")\n",
    "for labels in order_category_labels:\n",
    "    with open(path, 'a') as f: # dev\n",
    "        f.write(\"%s\\n\" % labels)"
   ]
  }
 ],
 "metadata": {
  "kernelspec": {
   "display_name": "Python 3",
   "language": "python",
   "name": "python3"
  },
  "language_info": {
   "codemirror_mode": {
    "name": "ipython",
    "version": 3
   },
   "file_extension": ".py",
   "mimetype": "text/x-python",
   "name": "python",
   "nbconvert_exporter": "python",
   "pygments_lexer": "ipython3",
   "version": "3.11.4"
  }
 },
 "nbformat": 4,
 "nbformat_minor": 2
}
