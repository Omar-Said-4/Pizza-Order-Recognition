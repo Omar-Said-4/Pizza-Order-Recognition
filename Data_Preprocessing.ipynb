{
 "cells": [
  {
   "cell_type": "markdown",
   "metadata": {},
   "source": [
    "## Dependencies"
   ]
  },
  {
   "cell_type": "code",
   "execution_count": 97,
   "metadata": {},
   "outputs": [
    {
     "name": "stdout",
     "output_type": "stream",
     "text": [
      "Requirement already satisfied: clean-text in c:\\program files\\python311\\lib\\site-packages (0.6.0)\n",
      "Requirement already satisfied: emoji<2.0.0,>=1.0.0 in c:\\program files\\python311\\lib\\site-packages (from clean-text) (1.7.0)\n",
      "Requirement already satisfied: ftfy<7.0,>=6.0 in c:\\program files\\python311\\lib\\site-packages (from clean-text) (6.3.1)\n",
      "Requirement already satisfied: wcwidth in c:\\users\\omara\\appdata\\roaming\\python\\python311\\site-packages (from ftfy<7.0,>=6.0->clean-text) (0.2.8)\n"
     ]
    }
   ],
   "source": [
    "!pip install clean-text"
   ]
  },
  {
   "cell_type": "code",
   "execution_count": 98,
   "metadata": {},
   "outputs": [
    {
     "name": "stderr",
     "output_type": "stream",
     "text": [
      "[nltk_data] Downloading package stopwords to\n",
      "[nltk_data]     C:\\Users\\omara\\AppData\\Roaming\\nltk_data...\n",
      "[nltk_data]   Package stopwords is already up-to-date!\n",
      "[nltk_data] Downloading package punkt to\n",
      "[nltk_data]     C:\\Users\\omara\\AppData\\Roaming\\nltk_data...\n",
      "[nltk_data]   Package punkt is already up-to-date!\n",
      "[nltk_data] Downloading package wordnet to\n",
      "[nltk_data]     C:\\Users\\omara\\AppData\\Roaming\\nltk_data...\n",
      "[nltk_data]   Package wordnet is already up-to-date!\n"
     ]
    },
    {
     "data": {
      "text/plain": [
       "True"
      ]
     },
     "execution_count": 98,
     "metadata": {},
     "output_type": "execute_result"
    }
   ],
   "source": [
    "import numpy as np\n",
    "import pandas as pd\n",
    "import re\n",
    "from cleantext import clean\n",
    "import json\n",
    "import nltk\n",
    "from nltk.corpus import stopwords\n",
    "from nltk.corpus import wordnet\n",
    "from nltk.tokenize import word_tokenize\n",
    "from nltk.stem import WordNetLemmatizer\n",
    "nltk.download('stopwords')\n",
    "nltk.download('punkt')\n",
    "nltk.download('wordnet')\n"
   ]
  },
  {
   "cell_type": "markdown",
   "metadata": {},
   "source": [
    "## Parsing JSON File"
   ]
  },
  {
   "cell_type": "code",
   "execution_count": 99,
   "metadata": {},
   "outputs": [],
   "source": [
    "#! load data given file path and number of line to load\n",
    "def load_data(file_path,num_lines):\n",
    "    data = []\n",
    "    with open(file_path, 'r') as file: \n",
    "        for _ in range(num_lines):\n",
    "            data.append(json.loads(file.readline())) \n",
    "    return data"
   ]
  },
  {
   "cell_type": "code",
   "execution_count": 100,
   "metadata": {},
   "outputs": [
    {
     "name": "stdout",
     "output_type": "stream",
     "text": [
      "[{'train.SRC': 'four pizzas with extra american cheese and i want five lunch sized pizzas no american cheese', 'train.EXR': '(ORDER (PIZZAORDER (NUMBER 5 ) (SIZE LUNCH_SIZE ) (NOT (TOPPING AMERICAN_CHEESE ) ) ) (PIZZAORDER (NUMBER 4 ) (COMPLEX_TOPPING (QUANTITY EXTRA ) (TOPPING AMERICAN_CHEESE ) ) ) )', 'train.TOP': '(ORDER (PIZZAORDER (NUMBER four ) pizzas with (COMPLEX_TOPPING (QUANTITY extra ) (TOPPING american cheese ) ) ) and i want (PIZZAORDER (NUMBER five ) (SIZE lunch sized ) pizzas no (NOT (TOPPING american cheese ) ) ) )', 'train.TOP-DECOUPLED': '(ORDER (PIZZAORDER (NUMBER four ) (COMPLEX_TOPPING (QUANTITY extra ) (TOPPING american cheese ) ) ) (PIZZAORDER (NUMBER five ) (SIZE lunch sized ) (NOT (TOPPING american cheese ) ) ) )'}, {'train.SRC': 'can i have a party - sized pie without any bean', 'train.EXR': '(ORDER (PIZZAORDER (NUMBER 1 ) (SIZE PARTY_SIZE ) (NOT (TOPPING BEANS ) ) ) )', 'train.TOP': '(ORDER can i have (PIZZAORDER (NUMBER a ) (SIZE party - sized ) pie without any (NOT (TOPPING bean ) ) ) )', 'train.TOP-DECOUPLED': '(ORDER (PIZZAORDER (NUMBER a ) (SIZE party - sized ) (NOT (TOPPING bean ) ) ) )'}, {'train.SRC': 'can i have a large bbq pulled pork can i have a large bbq pulled pork can i have a large bbq pulled pork', 'train.EXR': '(ORDER (PIZZAORDER (NUMBER 1 ) (SIZE LARGE ) (TOPPING BBQ_PULLED_PORK ) ) )', 'train.TOP': '(ORDER can i have (PIZZAORDER (NUMBER a ) (SIZE large ) (TOPPING bbq pulled pork ) ) (PIZZAORDER (NUMBER a ) (SIZE large ) (TOPPING bbq pulled pork ) ) (DRINKORDER (NUMBER a ) (SIZE large ) (TOPPING bbq pulled pork ) ))', 'train.TOP-DECOUPLED': '(ORDER (PIZZAORDER (NUMBER a ) (SIZE large ) (TOPPING bbq pulled pork ) ) )'}, {'train.SRC': \"i'd like 7 pizza with bacon and eight pizza with white onion\", 'train.EXR': '(ORDER (PIZZAORDER (NUMBER 8 ) (TOPPING WHITE_ONIONS ) ) (PIZZAORDER (NUMBER 7 ) (TOPPING BACON ) ) )', 'train.TOP': \"(ORDER i'd like (PIZZAORDER (NUMBER 7 ) pizza with (TOPPING bacon ) ) and (PIZZAORDER (NUMBER eight ) pizza with (TOPPING white onion ) ) )\", 'train.TOP-DECOUPLED': '(ORDER (PIZZAORDER (NUMBER 7 ) (TOPPING bacon ) ) (PIZZAORDER (NUMBER eight ) (TOPPING white onion ) ) )'}, {'train.SRC': 'three pizzas no american cheese and two extra large pies with a little bit of beans', 'train.EXR': '(ORDER (PIZZAORDER (NUMBER 2 ) (SIZE EXTRA_LARGE ) (COMPLEX_TOPPING (QUANTITY LIGHT ) (TOPPING BEANS ) ) ) (PIZZAORDER (NUMBER 3 ) (NOT (TOPPING AMERICAN_CHEESE ) ) ) )', 'train.TOP': '(ORDER (PIZZAORDER (NUMBER three ) pizzas no (NOT (TOPPING american cheese ) ) ) and (PIZZAORDER (NUMBER two ) (SIZE extra large ) pies with (COMPLEX_TOPPING (QUANTITY a little bit of ) (TOPPING beans ) ) ) )', 'train.TOP-DECOUPLED': '(ORDER (PIZZAORDER (NUMBER three ) (NOT (TOPPING american cheese ) ) ) (PIZZAORDER (NUMBER two ) (SIZE extra large ) (COMPLEX_TOPPING (QUANTITY a little bit of ) (TOPPING beans ) ) ) )'}]\n"
     ]
    }
   ],
   "source": [
    "data=load_data('PIZZA_train.json',1000)\n",
    "print(data[:5])"
   ]
  },
  {
   "cell_type": "code",
   "execution_count": 101,
   "metadata": {},
   "outputs": [
    {
     "name": "stdout",
     "output_type": "stream",
     "text": [
      "['four pizzas with extra american cheese and i want five lunch sized pizzas no american cheese', 'can i have a party - sized pie without any bean']\n",
      "['(ORDER (PIZZAORDER (NUMBER 5 ) (SIZE LUNCH_SIZE ) (NOT (TOPPING AMERICAN_CHEESE ) ) ) (PIZZAORDER (NUMBER 4 ) (COMPLEX_TOPPING (QUANTITY EXTRA ) (TOPPING AMERICAN_CHEESE ) ) ) )', '(ORDER (PIZZAORDER (NUMBER 1 ) (SIZE PARTY_SIZE ) (NOT (TOPPING BEANS ) ) ) )']\n",
      "['(ORDER (PIZZAORDER (NUMBER four ) pizzas with (COMPLEX_TOPPING (QUANTITY extra ) (TOPPING american cheese ) ) ) and i want (PIZZAORDER (NUMBER five ) (SIZE lunch sized ) pizzas no (NOT (TOPPING american cheese ) ) ) )', '(ORDER can i have (PIZZAORDER (NUMBER a ) (SIZE party - sized ) pie without any (NOT (TOPPING bean ) ) ) )']\n",
      "['(ORDER (PIZZAORDER (NUMBER four ) (COMPLEX_TOPPING (QUANTITY extra ) (TOPPING american cheese ) ) ) (PIZZAORDER (NUMBER five ) (SIZE lunch sized ) (NOT (TOPPING american cheese ) ) ) )', '(ORDER (PIZZAORDER (NUMBER a ) (SIZE party - sized ) (NOT (TOPPING bean ) ) ) )']\n"
     ]
    }
   ],
   "source": [
    "#! split json data\n",
    "def get_training_data(data):\n",
    "    training_data = []\n",
    "    training_exr=[]\n",
    "    training_top=[]\n",
    "    training_top_dec=[]\n",
    "    for item in data:\n",
    "        training_data.append(item['train.SRC'])\n",
    "        training_exr.append(item['train.EXR'])\n",
    "        training_top.append(item['train.TOP'])\n",
    "        training_top_dec.append(item['train.TOP-DECOUPLED'])\n",
    "    return training_data,training_exr,training_top,training_top_dec\n",
    "training_data,training_exr,training_top,training_top_dec=get_training_data(data)\n",
    "print(training_data[:2])\n",
    "print(training_exr[:2])\n",
    "print(training_top[:2])\n",
    "print(training_top_dec[:2])"
   ]
  },
  {
   "cell_type": "code",
   "execution_count": 102,
   "metadata": {},
   "outputs": [],
   "source": [
    "#! a function to handle negations\n",
    "def handle_negations(text):\n",
    "    #! negations are based on training set\n",
    "    negations_pattern = r\"\\b(?:no|not|without)\\s+.*?\\b(?=(?:[^\\w\\s]|$))\"\n",
    "    # print(re.findall(negations_pattern, text))\n",
    "    text = re.sub(negations_pattern, lambda x: ' '.join([f'not_{word}' for word in x.group(0).split()]), text)\n",
    "    return text"
   ]
  },
  {
   "cell_type": "code",
   "execution_count": 103,
   "metadata": {},
   "outputs": [],
   "source": [
    "#!# lemmatize words with all possible pos tags\n",
    "def lem_word(word):\n",
    "    possible_pos = [wordnet.NOUN, wordnet.VERB, wordnet.ADJ, wordnet.ADV]\n",
    "    lemmatizer = WordNetLemmatizer()\n",
    "    for pos in possible_pos:\n",
    "        word=lemmatizer.lemmatize(word,pos)\n",
    "    return word\n"
   ]
  },
  {
   "cell_type": "code",
   "execution_count": 104,
   "metadata": {},
   "outputs": [],
   "source": [
    "lemmatizer = WordNetLemmatizer()\n",
    "#! stopwords list (adding not_)\n",
    "stopwords = set(stopwords.words('english'))\n",
    "stopwords.add('like')\n",
    "not_stopwords = ['not_' + word for word in stopwords]\n",
    "stopwords.update(not_stopwords)\n",
    "stopwords.discard('a')\n",
    "stopwords.discard('an')\n",
    "stopwords.discard('not')\n",
    "stopwords.discard('no')\n",
    "stopwords.discard('can')\n",
    "stopwords.discard('not_a')\n",
    "stopwords.discard('not_an')\n",
    "stopwords.discard('not_can')\n",
    "stopwords.discard('not_no')\n",
    "# stopwords=set()\n",
    "# # stopwords.add('and')\n",
    "# # stopwords.add('also')"
   ]
  },
  {
   "cell_type": "code",
   "execution_count": 105,
   "metadata": {},
   "outputs": [
    {
     "name": "stdout",
     "output_type": "stream",
     "text": [
      "[['four', 'pizza', 'with', 'extra', 'american', 'cheese', 'and', 'i', 'want', 'five', 'lunch', 'size', 'pizza', 'no', 'american', 'cheese'], ['can', 'i', 'have', 'a', 'party', 'size', 'pie', 'without', 'any', 'bean'], ['can', 'i', 'have', 'a', 'large', 'bbq', 'pull', 'pork', 'can', 'i', 'have', 'a', 'large', 'bbq', 'pull', 'pork', 'can', 'i', 'have', 'a', 'large', 'bbq', 'pull', 'pork'], ['i', 'like', '7', 'pizza', 'with', 'bacon', 'and', 'eight', 'pizza', 'with', 'white', 'onion'], ['three', 'pizza', 'no', 'american', 'cheese', 'and', 'two', 'extra', 'large', 'pie', 'with', 'a', 'little', 'bite', 'of', 'bean']]\n"
     ]
    }
   ],
   "source": [
    "#! tokenize training data and remove stop words\n",
    "def preprocess_training_data(training_data, stopwords):\n",
    "    # training_data = [handle_negations(order) for order in training_data]\n",
    "    training_data = [word_tokenize(order) for order in training_data]\n",
    "    training_data = [[word.lower() for word in order if word.lower() not in stopwords] for order in training_data]\n",
    "    training_data = [clean(order, no_line_breaks=True, no_punct=True, no_currency_symbols=True) for order in training_data]\n",
    "    #! remove d letter most probably garbage\n",
    "    training_data = [re.sub(r'\\bd\\s+', '', order) for order in training_data]\n",
    "    #! remove \"can\" at the beginning of the sentence\n",
    "    # training_data=[re.sub(r'^can\\s+', '', order) for order in training_data]\n",
    "    training_data = [word_tokenize(order) for order in training_data]\n",
    "    # training_data = [[lemmatizer.lemmatize(word) for word in order] for order in training_data]\n",
    "    training_data = [[lem_word(word) for word in order] for order in training_data]\n",
    "    return training_data\n",
    "training_data = preprocess_training_data(training_data, stopwords)\n",
    "print(training_data[:5])"
   ]
  },
  {
   "cell_type": "code",
   "execution_count": 106,
   "metadata": {},
   "outputs": [],
   "source": [
    "#! save processed training dataset\n",
    "with open('training_data_processed.txt', 'w') as f:\n",
    "    for item in training_data:\n",
    "        f.write(\"%s\\n\" % item)"
   ]
  },
  {
   "cell_type": "code",
   "execution_count": 107,
   "metadata": {},
   "outputs": [],
   "source": [
    "#! a utility function for extra parentheses ) removal \n",
    "#! handles COMPLEX_TOPPING, NOT,... parenthesis cases\n",
    "def remove_unmatched_parentheses(input_string):\n",
    "    result = list(input_string)  # Convert to list for mutability\n",
    "    last_bracket_index=-1\n",
    "    for i, char in enumerate(result):\n",
    "        if char == ')' and i+2 < len(result):\n",
    "            result[i] = ''  \n",
    "            last_bracket_index=i\n",
    "        elif char == '(':\n",
    "            if last_bracket_index!=-1:\n",
    "                result[last_bracket_index] = ')'\n",
    "                last_bracket_index=-1\n",
    "    return ''.join(result)"
   ]
  },
  {
   "cell_type": "code",
   "execution_count": 108,
   "metadata": {},
   "outputs": [
    {
     "name": "stdout",
     "output_type": "stream",
     "text": [
      "[[0, 0, 0, 0, 0, 0, 2, 2, 2, 0, 0, 0, 0, 0, 0, 0], [2, 2, 2, 0, 0, 0, 0, 0, 0, 0], [2, 2, 2, 0, 0, 0, 0, 0, 2, 2, 2, 0, 0, 0, 0, 0, 2, 2, 2, 1, 1, 1, 1, 1], [2, 2, 0, 0, 0, 0, 2, 0, 0, 0, 0, 0], [0, 0, 0, 0, 0, 2, 0, 0, 0, 0, 0, 0, 0, 0, 0, 0]]\n"
     ]
    }
   ],
   "source": [
    "#! get PIZZAORDER, DRINKORDER, NONE Labels 0=>PIZZAORDER, 1=>DRINKORDER, 2=>NONE\n",
    "\n",
    "def get_order_category_labels(training_top, training_data, stopwords):\n",
    "    order_category_labels = []\n",
    "    for i, item in enumerate(training_top):\n",
    "        order_category_labels.append([2] * len(training_data[i]))\n",
    "        unwanted_keywords = r\"\\b(ORDER|SIZE|STYLE|TOPPING|COMPLEX_TOPPING|QUANTITY|NOT|NUMBER|DRINKTYPE|CONTAINERTYPE|VOLUME)\\b\"\n",
    "        cleaned_string = re.sub('\\('+unwanted_keywords, \"\", item)\n",
    "        cleaned_string = [word for word in cleaned_string.split() if word.lower() not in stopwords]\n",
    "        cleaned_string = ' '.join(cleaned_string)\n",
    "        cleaned_string = remove_unmatched_parentheses(cleaned_string)\n",
    "        order_regex = r\"\\((?:PIZZAORDER|DRINKORDER).*?\\)\"\n",
    "        extracted_orders = re.findall(order_regex, cleaned_string)\n",
    "        k = 0\n",
    "        for order in extracted_orders:\n",
    "            order = re.sub(r\"[\\(\\)]\", \"\", order)\n",
    "            order=clean(order, no_line_breaks=True, no_punct=True, no_currency_symbols=True)\n",
    "            tokens = word_tokenize(order)\n",
    "            # tokens = [lemmatizer.lemmatize(word) for word in tokens]\n",
    "            tokens = [lem_word(word) for word in tokens]\n",
    "            j = 0\n",
    "            to_index_train=training_data[i][k:]\n",
    "            if 'pizzaorder' in tokens:\n",
    "                tokens.remove('pizzaorder')\n",
    "                for word in to_index_train:\n",
    "                    if j == len(tokens):\n",
    "                        break\n",
    "                    if word == tokens[j]:\n",
    "                        order_category_labels[i][k] = 0\n",
    "                        j += 1\n",
    "                    k += 1\n",
    "            elif 'drinkorder' in tokens:\n",
    "                tokens.remove('drinkorder')\n",
    "                for word in to_index_train:\n",
    "                    if j == len(tokens):\n",
    "                        break\n",
    "                    if word == tokens[j]:\n",
    "                        order_category_labels[i][k] = 1\n",
    "                        j += 1\n",
    "                    k += 1\n",
    "    return order_category_labels\n",
    "\n",
    "order_category_labels = get_order_category_labels(training_top, training_data, stopwords)\n",
    "print(order_category_labels[:5])\n",
    "    "
   ]
  },
  {
   "cell_type": "code",
   "execution_count": 109,
   "metadata": {},
   "outputs": [],
   "source": [
    "for labels in order_category_labels:\n",
    "    with open('order_category_labels.txt', 'a') as f:\n",
    "        f.write(\"%s\\n\" % labels)"
   ]
  }
 ],
 "metadata": {
  "kernelspec": {
   "display_name": "Python 3",
   "language": "python",
   "name": "python3"
  },
  "language_info": {
   "codemirror_mode": {
    "name": "ipython",
    "version": 3
   },
   "file_extension": ".py",
   "mimetype": "text/x-python",
   "name": "python",
   "nbconvert_exporter": "python",
   "pygments_lexer": "ipython3",
   "version": "3.11.4"
  }
 },
 "nbformat": 4,
 "nbformat_minor": 2
}
